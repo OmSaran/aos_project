{
 "cells": [
  {
   "cell_type": "code",
   "execution_count": 2,
   "id": "bdd71a9a-c9ae-4610-9730-7d4e28e9597e",
   "metadata": {},
   "outputs": [],
   "source": [
    "import matplotlib.pyplot as plt\n",
    "import json\n",
    "import pandas as pd\n",
    "import numpy as np"
   ]
  },
  {
   "cell_type": "code",
   "execution_count": 25,
   "id": "1d903525-e70a-4c1d-9e79-8d09d56f69ab",
   "metadata": {},
   "outputs": [
    {
     "data": {
      "text/plain": [
       "<Figure size 864x648 with 0 Axes>"
      ]
     },
     "metadata": {},
     "output_type": "display_data"
    }
   ],
   "source": [
    "# fh = open(\"sf_buffer_test_results.json\")\n",
    "data = pd.read_json(\"mf_buffer_size_results.json\")['data']\n",
    "fcp = data['fcp']\n",
    "cp = data['cp']\n",
    "\n",
    "count = 1\n",
    "\n",
    "def get_x(x):\n",
    "    ret = []\n",
    "    for item in x:\n",
    "        if item < 1024:\n",
    "            ret.append(str(item) + \"MB\")\n",
    "        elif item/1024 < 1024:\n",
    "            ret.append(str(item/1024) + \"GB\")\n",
    "        elif item/1024/1024 < 1024:\n",
    "            ret.append(str(item/1024/1024) + \"TB\")\n",
    "        else:\n",
    "            ret.append(str(item/1024/1024/1024) + \"PB\")\n",
    "    return ret\n",
    "\n",
    "x_fcp = get_x([1, 2, 4, 8, 16, 32, 64, 128, 256, 512, 1024, 2048, 10240])\n",
    "y_fcp_real = [88,88,88,88,88,88,88,88,88,88,89,89,97]\n",
    "y_cp_real = [88, 106, 138, 202, 330, 586, 1098, 2122, 4170, 8266, 16458, 32842, 163914]\n",
    "\n",
    "# y_fcp_real_err = fcp['real_time_std_dev']\n",
    "# y_cp_real_err = cp['real_time_std_dev']\n",
    "# y_cp_user = cp['sys_time_mean']\n",
    "# y_cp_user_err = cp['sys_time_std_dev']\n",
    "              \n",
    "def do(start_idx, end_idx):\n",
    "    global count\n",
    "    x = x_fcp[start_idx:end_idx]\n",
    "    y1 = y_fcp_real[start_idx:end_idx]\n",
    "    y2 = y_cp_real[start_idx:end_idx]\n",
    "    # y1_err = y_fcp_real_err[start_idx:end_idx]\n",
    "    # y2_err = y_cp_real_err[start_idx:end_idx]\n",
    "    # y3 = y_cp_user[start_idx:end_idx]\n",
    "    # y3_err = y_cp_user_err[start_idx:end_idx]\n",
    "\n",
    "    x_axis = np.arange(len(x))\n",
    "\n",
    "    plt.xticks(x_axis, x)\n",
    "    \n",
    "    figure = plt.gcf() # get current figure\n",
    "    figure.set_size_inches(12, 9)\n",
    "    \n",
    "    width = 0.6\n",
    "    plt.xlabel(\"Filesize\")\n",
    "    plt.ylabel(\"Number of syscalls\")\n",
    "    plt.yscale('log', base=10)\n",
    "    plt.title(\"Syscalls vs filesize\")\n",
    "    plt.bar(x_axis - 0.2, y1, width=0.2, label=\"fcp real\", alpha=0.5, ecolor='black', capsize=5)\n",
    "    plt.bar(x_axis, y2, width=0.2, label=\"cp real\", alpha=0.5, ecolor='black', capsize=5)\n",
    "    # plt.bar(x_axis+0.2, y3, width=0.2, label=\"cp user\", yerr=y3_err, alpha=0.5, ecolor='black', capsize=5)\n",
    "    plt.legend()\n",
    "    \n",
    "    plt.savefig(f\"syscalls_filesize{count}\")\n",
    "    plt.clf()\n",
    "    count += 1\n",
    "\n",
    "do(0, len(x_fcp))"
   ]
  },
  {
   "cell_type": "code",
   "execution_count": null,
   "id": "8e78359a-9403-4cd2-828f-21865f7a7bd2",
   "metadata": {},
   "outputs": [],
   "source": []
  }
 ],
 "metadata": {
  "kernelspec": {
   "display_name": "Python 3 (ipykernel)",
   "language": "python",
   "name": "python3"
  },
  "language_info": {
   "codemirror_mode": {
    "name": "ipython",
    "version": 3
   },
   "file_extension": ".py",
   "mimetype": "text/x-python",
   "name": "python",
   "nbconvert_exporter": "python",
   "pygments_lexer": "ipython3",
   "version": "3.9.6"
  }
 },
 "nbformat": 4,
 "nbformat_minor": 5
}
